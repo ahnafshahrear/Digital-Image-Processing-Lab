{
 "cells": [
  {
   "cell_type": "markdown",
   "metadata": {},
   "source": [
    "#### Task 5(a): Take a binary image & a structuring element, perform Erosion & Dilation morphological operations"
   ]
  }
 ],
 "metadata": {
  "language_info": {
   "name": "python"
  }
 },
 "nbformat": 4,
 "nbformat_minor": 2
}
